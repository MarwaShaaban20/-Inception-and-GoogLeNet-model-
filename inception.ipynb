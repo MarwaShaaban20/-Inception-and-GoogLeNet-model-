{
  "nbformat": 4,
  "nbformat_minor": 0,
  "metadata": {
    "colab": {
      "provenance": []
    },
    "kernelspec": {
      "name": "python3",
      "display_name": "Python 3"
    },
    "language_info": {
      "name": "python"
    }
  },
  "cells": [
    {
      "cell_type": "code",
      "execution_count": 1,
      "metadata": {
        "id": "ZuoXyfzKTtA2"
      },
      "outputs": [],
      "source": [
        "import numpy as np\n",
        "import tensorflow as tf\n",
        "from sklearn.metrics import confusion_matrix, precision_score, recall_score, f1_score\n",
        "from tensorflow.keras.layers import Input, Conv2D, MaxPooling2D, AveragePooling2D, concatenate, Flatten, Dense\n"
      ]
    },
    {
      "cell_type": "code",
      "source": [
        "(x_train, y_train), (x_test, y_test) = tf.keras.datasets.mnist.load_data()\n",
        "\n",
        "# Normalize the input images\n",
        "x_train = x_train.astype('float32') / 255.0\n",
        "x_test = x_test.astype('float32') / 255.0\n",
        "\n",
        "# Reshape the input images to 4D tensors\n",
        "x_train = np.expand_dims(x_train, axis=-1)\n",
        "x_test = np.expand_dims(x_test, axis=-1)\n",
        "\n",
        "# Convert labels to one-hot encoding\n",
        "y_train = tf.keras.utils.to_categorical(y_train, num_classes=10)\n",
        "y_test = tf.keras.utils.to_categorical(y_test, num_classes=10)"
      ],
      "metadata": {
        "colab": {
          "base_uri": "https://localhost:8080/"
        },
        "id": "4QhBlmo9T5tq",
        "outputId": "c46f752b-35b6-4daf-90cd-4df04c8cbd8e"
      },
      "execution_count": 2,
      "outputs": [
        {
          "output_type": "stream",
          "name": "stdout",
          "text": [
            "Downloading data from https://storage.googleapis.com/tensorflow/tf-keras-datasets/mnist.npz\n",
            "11490434/11490434 [==============================] - 0s 0us/step\n"
          ]
        }
      ]
    },
    {
      "cell_type": "code",
      "source": [
        "# Define the Inception Module\n",
        "def inception_module(x, filters):\n",
        "    conv1x1 = Conv2D(filters[0], (1, 1), padding='same', activation='relu')(x)\n",
        "\n",
        "    conv3x3_reduce = Conv2D(filters[1], (1, 1), padding='same', activation='relu')(x)\n",
        "    conv3x3 = Conv2D(filters[2], (3, 3), padding='same', activation='relu')(conv3x3_reduce)\n",
        "\n",
        "    conv5x5_reduce = Conv2D(filters[3], (1, 1), padding='same', activation='relu')(x)\n",
        "    conv5x5 = Conv2D(filters[4], (5, 5), padding='same', activation='relu')(conv5x5_reduce)\n",
        "\n",
        "    maxpool = MaxPooling2D((3, 3), strides=(1, 1), padding='same')(x)\n",
        "    maxpool_proj = Conv2D(filters[5], (1, 1), padding='same', activation='relu')(maxpool)\n",
        "\n",
        "    inception_output = concatenate([conv1x1, conv3x3, conv5x5, maxpool_proj], axis=-1)\n",
        "    return inception_output"
      ],
      "metadata": {
        "id": "4ExRbL7Mwcfv"
      },
      "execution_count": 3,
      "outputs": []
    },
    {
      "cell_type": "code",
      "source": [
        "# Define the GoogLeNet model\n",
        "def googlenet(input_shape, num_classes):\n",
        "    input_layer = Input(shape=input_shape)\n",
        "\n",
        "    # Initial Convolution and MaxPooling\n",
        "    x = Conv2D(64, (7, 7), strides=(2, 2), padding='same', activation='relu')(input_layer)\n",
        "    x = MaxPooling2D((3, 3), strides=(2, 2), padding='same')(x)\n",
        "\n",
        "    # Inception Modules\n",
        "    x = inception_module(x, [64, 64, 128, 32, 32, 32])\n",
        "    x = inception_module(x, [128, 128, 192, 96, 96, 64])\n",
        "\n",
        "    # Add more inception modules as needed\n",
        "\n",
        "    # Main Classifier\n",
        "    x = AveragePooling2D((7, 7), strides=(1, 1))(x)\n",
        "    x = Flatten()(x)\n",
        "    x = Dense(1024, activation='relu')(x)\n",
        "    x = Dense(num_classes, activation='softmax')(x)\n",
        "\n",
        "    model = tf.keras.models.Model(inputs=input_layer, outputs=x)\n",
        "\n",
        "    return model\n",
        "\n",
        "# Create the GoogLeNet model for MNIST\n",
        "input_shape = (28, 28, 1)\n",
        "num_classes = 10\n",
        "model = googlenet(input_shape, num_classes)\n",
        "\n",
        "# Print a summary of the model\n",
        "model.summary()"
      ],
      "metadata": {
        "colab": {
          "base_uri": "https://localhost:8080/"
        },
        "id": "-uxP0YiWwusg",
        "outputId": "97a7e587-1a28-465e-cb77-8ee8ef1a8024"
      },
      "execution_count": 4,
      "outputs": [
        {
          "output_type": "stream",
          "name": "stdout",
          "text": [
            "Model: \"model\"\n",
            "__________________________________________________________________________________________________\n",
            " Layer (type)                Output Shape                 Param #   Connected to                  \n",
            "==================================================================================================\n",
            " input_1 (InputLayer)        [(None, 28, 28, 1)]          0         []                            \n",
            "                                                                                                  \n",
            " conv2d (Conv2D)             (None, 14, 14, 64)           3200      ['input_1[0][0]']             \n",
            "                                                                                                  \n",
            " max_pooling2d (MaxPooling2  (None, 7, 7, 64)             0         ['conv2d[0][0]']              \n",
            " D)                                                                                               \n",
            "                                                                                                  \n",
            " conv2d_2 (Conv2D)           (None, 7, 7, 64)             4160      ['max_pooling2d[0][0]']       \n",
            "                                                                                                  \n",
            " conv2d_4 (Conv2D)           (None, 7, 7, 32)             2080      ['max_pooling2d[0][0]']       \n",
            "                                                                                                  \n",
            " max_pooling2d_1 (MaxPoolin  (None, 7, 7, 64)             0         ['max_pooling2d[0][0]']       \n",
            " g2D)                                                                                             \n",
            "                                                                                                  \n",
            " conv2d_1 (Conv2D)           (None, 7, 7, 64)             4160      ['max_pooling2d[0][0]']       \n",
            "                                                                                                  \n",
            " conv2d_3 (Conv2D)           (None, 7, 7, 128)            73856     ['conv2d_2[0][0]']            \n",
            "                                                                                                  \n",
            " conv2d_5 (Conv2D)           (None, 7, 7, 32)             25632     ['conv2d_4[0][0]']            \n",
            "                                                                                                  \n",
            " conv2d_6 (Conv2D)           (None, 7, 7, 32)             2080      ['max_pooling2d_1[0][0]']     \n",
            "                                                                                                  \n",
            " concatenate (Concatenate)   (None, 7, 7, 256)            0         ['conv2d_1[0][0]',            \n",
            "                                                                     'conv2d_3[0][0]',            \n",
            "                                                                     'conv2d_5[0][0]',            \n",
            "                                                                     'conv2d_6[0][0]']            \n",
            "                                                                                                  \n",
            " conv2d_8 (Conv2D)           (None, 7, 7, 128)            32896     ['concatenate[0][0]']         \n",
            "                                                                                                  \n",
            " conv2d_10 (Conv2D)          (None, 7, 7, 96)             24672     ['concatenate[0][0]']         \n",
            "                                                                                                  \n",
            " max_pooling2d_2 (MaxPoolin  (None, 7, 7, 256)            0         ['concatenate[0][0]']         \n",
            " g2D)                                                                                             \n",
            "                                                                                                  \n",
            " conv2d_7 (Conv2D)           (None, 7, 7, 128)            32896     ['concatenate[0][0]']         \n",
            "                                                                                                  \n",
            " conv2d_9 (Conv2D)           (None, 7, 7, 192)            221376    ['conv2d_8[0][0]']            \n",
            "                                                                                                  \n",
            " conv2d_11 (Conv2D)          (None, 7, 7, 96)             230496    ['conv2d_10[0][0]']           \n",
            "                                                                                                  \n",
            " conv2d_12 (Conv2D)          (None, 7, 7, 64)             16448     ['max_pooling2d_2[0][0]']     \n",
            "                                                                                                  \n",
            " concatenate_1 (Concatenate  (None, 7, 7, 480)            0         ['conv2d_7[0][0]',            \n",
            " )                                                                   'conv2d_9[0][0]',            \n",
            "                                                                     'conv2d_11[0][0]',           \n",
            "                                                                     'conv2d_12[0][0]']           \n",
            "                                                                                                  \n",
            " average_pooling2d (Average  (None, 1, 1, 480)            0         ['concatenate_1[0][0]']       \n",
            " Pooling2D)                                                                                       \n",
            "                                                                                                  \n",
            " flatten (Flatten)           (None, 480)                  0         ['average_pooling2d[0][0]']   \n",
            "                                                                                                  \n",
            " dense (Dense)               (None, 1024)                 492544    ['flatten[0][0]']             \n",
            "                                                                                                  \n",
            " dense_1 (Dense)             (None, 10)                   10250     ['dense[0][0]']               \n",
            "                                                                                                  \n",
            "==================================================================================================\n",
            "Total params: 1176746 (4.49 MB)\n",
            "Trainable params: 1176746 (4.49 MB)\n",
            "Non-trainable params: 0 (0.00 Byte)\n",
            "__________________________________________________________________________________________________\n"
          ]
        }
      ]
    },
    {
      "cell_type": "code",
      "source": [
        "# Compile and train the model using the Adam optimizer\n",
        "model.compile(optimizer='adam', loss='categorical_crossentropy', metrics=['accuracy'])\n",
        "model.fit(x_train, y_train, batch_size=128, epochs=5, validation_data=(x_test, y_test))\n"
      ],
      "metadata": {
        "colab": {
          "base_uri": "https://localhost:8080/"
        },
        "id": "TiFX4WLfw1a6",
        "outputId": "990888c4-753a-4f86-e477-113e1b8221f5"
      },
      "execution_count": 6,
      "outputs": [
        {
          "output_type": "stream",
          "name": "stdout",
          "text": [
            "Epoch 1/5\n",
            "469/469 [==============================] - 395s 836ms/step - loss: 0.2014 - accuracy: 0.9398 - val_loss: 0.0905 - val_accuracy: 0.9729\n",
            "Epoch 2/5\n",
            "469/469 [==============================] - 387s 825ms/step - loss: 0.0808 - accuracy: 0.9747 - val_loss: 0.0591 - val_accuracy: 0.9802\n",
            "Epoch 3/5\n",
            "469/469 [==============================] - 383s 816ms/step - loss: 0.0560 - accuracy: 0.9823 - val_loss: 0.0323 - val_accuracy: 0.9895\n",
            "Epoch 4/5\n",
            "469/469 [==============================] - 382s 814ms/step - loss: 0.0418 - accuracy: 0.9869 - val_loss: 0.0401 - val_accuracy: 0.9865\n",
            "Epoch 5/5\n",
            "469/469 [==============================] - 380s 810ms/step - loss: 0.0381 - accuracy: 0.9884 - val_loss: 0.0344 - val_accuracy: 0.9885\n"
          ]
        },
        {
          "output_type": "execute_result",
          "data": {
            "text/plain": [
              "<keras.src.callbacks.History at 0x7bc168255570>"
            ]
          },
          "metadata": {},
          "execution_count": 6
        }
      ]
    },
    {
      "cell_type": "code",
      "source": [
        "# Evaluate the model and print the confusion matrix\n",
        "y_pred = model.predict(x_test)\n",
        "y_pred_classes = np.argmax(y_pred, axis=1)\n",
        "y_true = np.argmax(y_test, axis=1)\n",
        "confusion_mat = confusion_matrix(y_true, y_pred_classes)\n",
        "print(\"Confusion Matrix:\")\n",
        "print(confusion_mat)"
      ],
      "metadata": {
        "colab": {
          "base_uri": "https://localhost:8080/"
        },
        "id": "t3fHwMLBx6mH",
        "outputId": "dab2b32b-09ed-45bf-ed66-1cb56022d35b"
      },
      "execution_count": 7,
      "outputs": [
        {
          "output_type": "stream",
          "name": "stdout",
          "text": [
            "313/313 [==============================] - 17s 55ms/step\n",
            "Confusion Matrix:\n",
            "[[ 979    0    0    0    0    0    1    0    0    0]\n",
            " [   3 1130    1    1    0    0    0    0    0    0]\n",
            " [  12    2 1009    0    0    0    1    2    6    0]\n",
            " [   0    0    0  999    0    7    0    1    2    1]\n",
            " [   0    0    0    0  967    0    4    0    2    9]\n",
            " [   1    0    0    1    0  887    3    0    0    0]\n",
            " [   5    5    0    0    0    2  945    0    1    0]\n",
            " [   1    6    5    0    1    1    0 1005    0    9]\n",
            " [   4    0    0    0    0    1    2    0  966    1]\n",
            " [   2    0    0    0    3    1    0    2    3  998]]\n"
          ]
        }
      ]
    },
    {
      "cell_type": "code",
      "source": [
        "# Calculate precision, recall, and F1-score\n",
        "precision = precision_score(y_true, y_pred_classes, average='weighted')\n",
        "recall = recall_score(y_true, y_pred_classes, average='weighted')\n",
        "f1 = f1_score(y_true, y_pred_classes, average='weighted')\n",
        "\n",
        "print(\"Precision:\", precision)\n",
        "print(\"Recall:\", recall)\n",
        "print(\"F1-Score:\", f1)"
      ],
      "metadata": {
        "colab": {
          "base_uri": "https://localhost:8080/"
        },
        "id": "nDk_BVohySoo",
        "outputId": "4a10a0fe-2a79-4058-dbc7-35b12a9a972c"
      },
      "execution_count": 8,
      "outputs": [
        {
          "output_type": "stream",
          "name": "stdout",
          "text": [
            "Precision: 0.9885921791938647\n",
            "Recall: 0.9885\n",
            "F1-Score: 0.988502524944222\n"
          ]
        }
      ]
    },
    {
      "cell_type": "code",
      "source": [],
      "metadata": {
        "id": "16LrOdqV0dyB"
      },
      "execution_count": null,
      "outputs": []
    }
  ]
}