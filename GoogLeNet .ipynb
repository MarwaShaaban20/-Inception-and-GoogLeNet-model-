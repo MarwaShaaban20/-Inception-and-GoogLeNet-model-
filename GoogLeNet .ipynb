{
  "nbformat": 4,
  "nbformat_minor": 0,
  "metadata": {
    "colab": {
      "provenance": []
    },
    "kernelspec": {
      "name": "python3",
      "display_name": "Python 3"
    },
    "language_info": {
      "name": "python"
    }
  },
  "cells": [
    {
      "cell_type": "code",
      "execution_count": 2,
      "metadata": {
        "id": "tbemWRAo0KWn"
      },
      "outputs": [],
      "source": [
        "import tensorflow as tf\n",
        "from tensorflow.keras.datasets import mnist\n",
        "from tensorflow.keras.models import Model\n",
        "from tensorflow.keras.layers import Input, Dense, Conv2D, MaxPooling2D,AveragePooling2D, Flatten, Dropout, concatenate\n",
        "from tensorflow.keras.optimizers import Adam\n",
        "from sklearn.metrics import confusion_matrix, precision_score, recall_score, f1_score\n"
      ]
    },
    {
      "cell_type": "code",
      "source": [
        "# Load MNIST dataset\n",
        "(x_train, y_train), (x_test, y_test) = mnist.load_data()\n",
        "\n",
        "# Reshape and normalize images\n",
        "x_train = x_train.reshape(-1, 28, 28, 1) / 255.0\n",
        "x_test = x_test.reshape(-1, 28, 28, 1) / 255.0\n",
        "\n",
        "# Convert labels to one-hot encoded vectors\n",
        "y_train = tf.keras.utils.to_categorical(y_train, num_classes=10)\n",
        "y_test = tf.keras.utils.to_categorical(y_test, num_classes=10)\n"
      ],
      "metadata": {
        "colab": {
          "base_uri": "https://localhost:8080/"
        },
        "id": "PxsJ0wVr07Bh",
        "outputId": "41b3e370-f335-44cb-bdba-a35c6253c179"
      },
      "execution_count": 3,
      "outputs": [
        {
          "output_type": "stream",
          "name": "stdout",
          "text": [
            "Downloading data from https://storage.googleapis.com/tensorflow/tf-keras-datasets/mnist.npz\n",
            "11490434/11490434 [==============================] - 0s 0us/step\n"
          ]
        }
      ]
    },
    {
      "cell_type": "code",
      "source": [
        "from tensorflow.keras.layers import Input, Conv2D, MaxPooling2D, AveragePooling2D, concatenate, Flatten, Dense, Dropout\n",
        "from tensorflow.keras.models import Model\n",
        "\n",
        "def inception_module(x, filters):\n",
        "    tower_1 = Conv2D(filters[0], (1, 1), padding='same', activation='relu')(x)\n",
        "    tower_1 = Conv2D(filters[1], (3, 3), padding='same', activation='relu')(tower_1)\n",
        "\n",
        "    tower_2 = Conv2D(filters[2], (1, 1), padding='same', activation='relu')(x)\n",
        "    tower_2 = Conv2D(filters[3], (5, 5), padding='same', activation='relu')(tower_2)\n",
        "\n",
        "    tower_3 = MaxPooling2D((3, 3), strides=(1, 1), padding='same')(x)\n",
        "    tower_3 = Conv2D(filters[4], (1, 1), padding='same', activation='relu')(tower_3)\n",
        "\n",
        "    output = concatenate([tower_1, tower_2, tower_3], axis=3)\n",
        "    return output\n",
        "\n",
        "def create_inception_model():\n",
        "    input_layer = Input(shape=(28, 28, 1))\n",
        "\n",
        "    x = Conv2D(64, (7, 7), strides=(2, 2), padding='same', activation='relu')(input_layer)\n",
        "    x = MaxPooling2D((3, 3), strides=(2, 2), padding='same')(x)\n",
        "\n",
        "    x = Conv2D(64, (1, 1), padding='same', activation='relu')(x)\n",
        "    x = Conv2D(192, (3, 3), padding='same', activation='relu')(x)\n",
        "    x = MaxPooling2D((3, 3), strides=(2, 2), padding='same')(x)\n",
        "\n",
        "    x = inception_module(x, [64, 96, 128, 16, 32])\n",
        "    x = inception_module(x, [128, 128, 192, 32, 96])\n",
        "    x = MaxPooling2D((3, 3), strides=(2, 2), padding='same')(x)\n",
        "\n",
        "    x = inception_module(x, [192, 96, 208, 16, 48])\n",
        "    x = inception_module(x, [160, 112, 224, 24, 64])\n",
        "    x = inception_module(x, [128, 128, 256, 24, 64])\n",
        "    x = inception_module(x, [112, 144, 288, 32, 64])\n",
        "    x = inception_module(x, [256, 160, 320, 32, 128])\n",
        "    x = MaxPooling2D((3, 3), strides=(2, 2), padding='same')(x)\n",
        "\n",
        "    x = inception_module(x, [256, 160, 320, 32, 128])\n",
        "    x = inception_module(x, [384, 192, 384, 48, 128])\n",
        "\n",
        "    x = AveragePooling2D((3, 3), strides=(1, 1), padding='same')(x)\n",
        "    x = Dropout(0.4)(x)\n",
        "    x = Flatten()(x)\n",
        "    output_layer = Dense(10, activation='softmax')(x)\n",
        "\n",
        "    model = Model(inputs=input_layer, outputs=output_layer)\n",
        "    return model\n",
        "\n",
        "# Create the Inception v1 model\n",
        "inception_model = create_inception_model()\n",
        "inception_model.summary()\n"
      ],
      "metadata": {
        "colab": {
          "base_uri": "https://localhost:8080/"
        },
        "id": "8IafAzN40Ml7",
        "outputId": "677bf158-4458-4b78-d353-2f1940852aff"
      },
      "execution_count": 4,
      "outputs": [
        {
          "output_type": "stream",
          "name": "stdout",
          "text": [
            "Model: \"model\"\n",
            "__________________________________________________________________________________________________\n",
            " Layer (type)                Output Shape                 Param #   Connected to                  \n",
            "==================================================================================================\n",
            " input_1 (InputLayer)        [(None, 28, 28, 1)]          0         []                            \n",
            "                                                                                                  \n",
            " conv2d (Conv2D)             (None, 14, 14, 64)           3200      ['input_1[0][0]']             \n",
            "                                                                                                  \n",
            " max_pooling2d (MaxPooling2  (None, 7, 7, 64)             0         ['conv2d[0][0]']              \n",
            " D)                                                                                               \n",
            "                                                                                                  \n",
            " conv2d_1 (Conv2D)           (None, 7, 7, 64)             4160      ['max_pooling2d[0][0]']       \n",
            "                                                                                                  \n",
            " conv2d_2 (Conv2D)           (None, 7, 7, 192)            110784    ['conv2d_1[0][0]']            \n",
            "                                                                                                  \n",
            " max_pooling2d_1 (MaxPoolin  (None, 4, 4, 192)            0         ['conv2d_2[0][0]']            \n",
            " g2D)                                                                                             \n",
            "                                                                                                  \n",
            " conv2d_3 (Conv2D)           (None, 4, 4, 64)             12352     ['max_pooling2d_1[0][0]']     \n",
            "                                                                                                  \n",
            " conv2d_5 (Conv2D)           (None, 4, 4, 128)            24704     ['max_pooling2d_1[0][0]']     \n",
            "                                                                                                  \n",
            " max_pooling2d_2 (MaxPoolin  (None, 4, 4, 192)            0         ['max_pooling2d_1[0][0]']     \n",
            " g2D)                                                                                             \n",
            "                                                                                                  \n",
            " conv2d_4 (Conv2D)           (None, 4, 4, 96)             55392     ['conv2d_3[0][0]']            \n",
            "                                                                                                  \n",
            " conv2d_6 (Conv2D)           (None, 4, 4, 16)             51216     ['conv2d_5[0][0]']            \n",
            "                                                                                                  \n",
            " conv2d_7 (Conv2D)           (None, 4, 4, 32)             6176      ['max_pooling2d_2[0][0]']     \n",
            "                                                                                                  \n",
            " concatenate (Concatenate)   (None, 4, 4, 144)            0         ['conv2d_4[0][0]',            \n",
            "                                                                     'conv2d_6[0][0]',            \n",
            "                                                                     'conv2d_7[0][0]']            \n",
            "                                                                                                  \n",
            " conv2d_8 (Conv2D)           (None, 4, 4, 128)            18560     ['concatenate[0][0]']         \n",
            "                                                                                                  \n",
            " conv2d_10 (Conv2D)          (None, 4, 4, 192)            27840     ['concatenate[0][0]']         \n",
            "                                                                                                  \n",
            " max_pooling2d_3 (MaxPoolin  (None, 4, 4, 144)            0         ['concatenate[0][0]']         \n",
            " g2D)                                                                                             \n",
            "                                                                                                  \n",
            " conv2d_9 (Conv2D)           (None, 4, 4, 128)            147584    ['conv2d_8[0][0]']            \n",
            "                                                                                                  \n",
            " conv2d_11 (Conv2D)          (None, 4, 4, 32)             153632    ['conv2d_10[0][0]']           \n",
            "                                                                                                  \n",
            " conv2d_12 (Conv2D)          (None, 4, 4, 96)             13920     ['max_pooling2d_3[0][0]']     \n",
            "                                                                                                  \n",
            " concatenate_1 (Concatenate  (None, 4, 4, 256)            0         ['conv2d_9[0][0]',            \n",
            " )                                                                   'conv2d_11[0][0]',           \n",
            "                                                                     'conv2d_12[0][0]']           \n",
            "                                                                                                  \n",
            " max_pooling2d_4 (MaxPoolin  (None, 2, 2, 256)            0         ['concatenate_1[0][0]']       \n",
            " g2D)                                                                                             \n",
            "                                                                                                  \n",
            " conv2d_13 (Conv2D)          (None, 2, 2, 192)            49344     ['max_pooling2d_4[0][0]']     \n",
            "                                                                                                  \n",
            " conv2d_15 (Conv2D)          (None, 2, 2, 208)            53456     ['max_pooling2d_4[0][0]']     \n",
            "                                                                                                  \n",
            " max_pooling2d_5 (MaxPoolin  (None, 2, 2, 256)            0         ['max_pooling2d_4[0][0]']     \n",
            " g2D)                                                                                             \n",
            "                                                                                                  \n",
            " conv2d_14 (Conv2D)          (None, 2, 2, 96)             165984    ['conv2d_13[0][0]']           \n",
            "                                                                                                  \n",
            " conv2d_16 (Conv2D)          (None, 2, 2, 16)             83216     ['conv2d_15[0][0]']           \n",
            "                                                                                                  \n",
            " conv2d_17 (Conv2D)          (None, 2, 2, 48)             12336     ['max_pooling2d_5[0][0]']     \n",
            "                                                                                                  \n",
            " concatenate_2 (Concatenate  (None, 2, 2, 160)            0         ['conv2d_14[0][0]',           \n",
            " )                                                                   'conv2d_16[0][0]',           \n",
            "                                                                     'conv2d_17[0][0]']           \n",
            "                                                                                                  \n",
            " conv2d_18 (Conv2D)          (None, 2, 2, 160)            25760     ['concatenate_2[0][0]']       \n",
            "                                                                                                  \n",
            " conv2d_20 (Conv2D)          (None, 2, 2, 224)            36064     ['concatenate_2[0][0]']       \n",
            "                                                                                                  \n",
            " max_pooling2d_6 (MaxPoolin  (None, 2, 2, 160)            0         ['concatenate_2[0][0]']       \n",
            " g2D)                                                                                             \n",
            "                                                                                                  \n",
            " conv2d_19 (Conv2D)          (None, 2, 2, 112)            161392    ['conv2d_18[0][0]']           \n",
            "                                                                                                  \n",
            " conv2d_21 (Conv2D)          (None, 2, 2, 24)             134424    ['conv2d_20[0][0]']           \n",
            "                                                                                                  \n",
            " conv2d_22 (Conv2D)          (None, 2, 2, 64)             10304     ['max_pooling2d_6[0][0]']     \n",
            "                                                                                                  \n",
            " concatenate_3 (Concatenate  (None, 2, 2, 200)            0         ['conv2d_19[0][0]',           \n",
            " )                                                                   'conv2d_21[0][0]',           \n",
            "                                                                     'conv2d_22[0][0]']           \n",
            "                                                                                                  \n",
            " conv2d_23 (Conv2D)          (None, 2, 2, 128)            25728     ['concatenate_3[0][0]']       \n",
            "                                                                                                  \n",
            " conv2d_25 (Conv2D)          (None, 2, 2, 256)            51456     ['concatenate_3[0][0]']       \n",
            "                                                                                                  \n",
            " max_pooling2d_7 (MaxPoolin  (None, 2, 2, 200)            0         ['concatenate_3[0][0]']       \n",
            " g2D)                                                                                             \n",
            "                                                                                                  \n",
            " conv2d_24 (Conv2D)          (None, 2, 2, 128)            147584    ['conv2d_23[0][0]']           \n",
            "                                                                                                  \n",
            " conv2d_26 (Conv2D)          (None, 2, 2, 24)             153624    ['conv2d_25[0][0]']           \n",
            "                                                                                                  \n",
            " conv2d_27 (Conv2D)          (None, 2, 2, 64)             12864     ['max_pooling2d_7[0][0]']     \n",
            "                                                                                                  \n",
            " concatenate_4 (Concatenate  (None, 2, 2, 216)            0         ['conv2d_24[0][0]',           \n",
            " )                                                                   'conv2d_26[0][0]',           \n",
            "                                                                     'conv2d_27[0][0]']           \n",
            "                                                                                                  \n",
            " conv2d_28 (Conv2D)          (None, 2, 2, 112)            24304     ['concatenate_4[0][0]']       \n",
            "                                                                                                  \n",
            " conv2d_30 (Conv2D)          (None, 2, 2, 288)            62496     ['concatenate_4[0][0]']       \n",
            "                                                                                                  \n",
            " max_pooling2d_8 (MaxPoolin  (None, 2, 2, 216)            0         ['concatenate_4[0][0]']       \n",
            " g2D)                                                                                             \n",
            "                                                                                                  \n",
            " conv2d_29 (Conv2D)          (None, 2, 2, 144)            145296    ['conv2d_28[0][0]']           \n",
            "                                                                                                  \n",
            " conv2d_31 (Conv2D)          (None, 2, 2, 32)             230432    ['conv2d_30[0][0]']           \n",
            "                                                                                                  \n",
            " conv2d_32 (Conv2D)          (None, 2, 2, 64)             13888     ['max_pooling2d_8[0][0]']     \n",
            "                                                                                                  \n",
            " concatenate_5 (Concatenate  (None, 2, 2, 240)            0         ['conv2d_29[0][0]',           \n",
            " )                                                                   'conv2d_31[0][0]',           \n",
            "                                                                     'conv2d_32[0][0]']           \n",
            "                                                                                                  \n",
            " conv2d_33 (Conv2D)          (None, 2, 2, 256)            61696     ['concatenate_5[0][0]']       \n",
            "                                                                                                  \n",
            " conv2d_35 (Conv2D)          (None, 2, 2, 320)            77120     ['concatenate_5[0][0]']       \n",
            "                                                                                                  \n",
            " max_pooling2d_9 (MaxPoolin  (None, 2, 2, 240)            0         ['concatenate_5[0][0]']       \n",
            " g2D)                                                                                             \n",
            "                                                                                                  \n",
            " conv2d_34 (Conv2D)          (None, 2, 2, 160)            368800    ['conv2d_33[0][0]']           \n",
            "                                                                                                  \n",
            " conv2d_36 (Conv2D)          (None, 2, 2, 32)             256032    ['conv2d_35[0][0]']           \n",
            "                                                                                                  \n",
            " conv2d_37 (Conv2D)          (None, 2, 2, 128)            30848     ['max_pooling2d_9[0][0]']     \n",
            "                                                                                                  \n",
            " concatenate_6 (Concatenate  (None, 2, 2, 320)            0         ['conv2d_34[0][0]',           \n",
            " )                                                                   'conv2d_36[0][0]',           \n",
            "                                                                     'conv2d_37[0][0]']           \n",
            "                                                                                                  \n",
            " max_pooling2d_10 (MaxPooli  (None, 1, 1, 320)            0         ['concatenate_6[0][0]']       \n",
            " ng2D)                                                                                            \n",
            "                                                                                                  \n",
            " conv2d_38 (Conv2D)          (None, 1, 1, 256)            82176     ['max_pooling2d_10[0][0]']    \n",
            "                                                                                                  \n",
            " conv2d_40 (Conv2D)          (None, 1, 1, 320)            102720    ['max_pooling2d_10[0][0]']    \n",
            "                                                                                                  \n",
            " max_pooling2d_11 (MaxPooli  (None, 1, 1, 320)            0         ['max_pooling2d_10[0][0]']    \n",
            " ng2D)                                                                                            \n",
            "                                                                                                  \n",
            " conv2d_39 (Conv2D)          (None, 1, 1, 160)            368800    ['conv2d_38[0][0]']           \n",
            "                                                                                                  \n",
            " conv2d_41 (Conv2D)          (None, 1, 1, 32)             256032    ['conv2d_40[0][0]']           \n",
            "                                                                                                  \n",
            " conv2d_42 (Conv2D)          (None, 1, 1, 128)            41088     ['max_pooling2d_11[0][0]']    \n",
            "                                                                                                  \n",
            " concatenate_7 (Concatenate  (None, 1, 1, 320)            0         ['conv2d_39[0][0]',           \n",
            " )                                                                   'conv2d_41[0][0]',           \n",
            "                                                                     'conv2d_42[0][0]']           \n",
            "                                                                                                  \n",
            " conv2d_43 (Conv2D)          (None, 1, 1, 384)            123264    ['concatenate_7[0][0]']       \n",
            "                                                                                                  \n",
            " conv2d_45 (Conv2D)          (None, 1, 1, 384)            123264    ['concatenate_7[0][0]']       \n",
            "                                                                                                  \n",
            " max_pooling2d_12 (MaxPooli  (None, 1, 1, 320)            0         ['concatenate_7[0][0]']       \n",
            " ng2D)                                                                                            \n",
            "                                                                                                  \n",
            " conv2d_44 (Conv2D)          (None, 1, 1, 192)            663744    ['conv2d_43[0][0]']           \n",
            "                                                                                                  \n",
            " conv2d_46 (Conv2D)          (None, 1, 1, 48)             460848    ['conv2d_45[0][0]']           \n",
            "                                                                                                  \n",
            " conv2d_47 (Conv2D)          (None, 1, 1, 128)            41088     ['max_pooling2d_12[0][0]']    \n",
            "                                                                                                  \n",
            " concatenate_8 (Concatenate  (None, 1, 1, 368)            0         ['conv2d_44[0][0]',           \n",
            " )                                                                   'conv2d_46[0][0]',           \n",
            "                                                                     'conv2d_47[0][0]']           \n",
            "                                                                                                  \n",
            " average_pooling2d (Average  (None, 1, 1, 368)            0         ['concatenate_8[0][0]']       \n",
            " Pooling2D)                                                                                       \n",
            "                                                                                                  \n",
            " dropout (Dropout)           (None, 1, 1, 368)            0         ['average_pooling2d[0][0]']   \n",
            "                                                                                                  \n",
            " flatten (Flatten)           (None, 368)                  0         ['dropout[0][0]']             \n",
            "                                                                                                  \n",
            " dense (Dense)               (None, 10)                   3690      ['flatten[0][0]']             \n",
            "                                                                                                  \n",
            "==================================================================================================\n",
            "Total params: 5290682 (20.18 MB)\n",
            "Trainable params: 5290682 (20.18 MB)\n",
            "Non-trainable params: 0 (0.00 Byte)\n",
            "__________________________________________________________________________________________________\n"
          ]
        }
      ]
    },
    {
      "cell_type": "code",
      "source": [
        "# Compile the model\n",
        "inception_model.compile(optimizer='adam', loss='categorical_crossentropy', metrics=['accuracy'])\n",
        "\n",
        "# Train the model\n",
        "inception_model.fit(x_train, y_train, batch_size=128, epochs=5, validation_data=(x_test, y_test))\n"
      ],
      "metadata": {
        "colab": {
          "base_uri": "https://localhost:8080/"
        },
        "id": "IsrZX1lQYxI8",
        "outputId": "b1bbbaac-f845-40d4-fa80-684c45869700"
      },
      "execution_count": 5,
      "outputs": [
        {
          "output_type": "stream",
          "name": "stdout",
          "text": [
            "Epoch 1/5\n",
            "469/469 [==============================] - 531s 1s/step - loss: 1.2395 - accuracy: 0.5239 - val_loss: 0.2528 - val_accuracy: 0.9283\n",
            "Epoch 2/5\n",
            "469/469 [==============================] - 509s 1s/step - loss: 0.1494 - accuracy: 0.9622 - val_loss: 0.0732 - val_accuracy: 0.9802\n",
            "Epoch 3/5\n",
            "469/469 [==============================] - 507s 1s/step - loss: 0.0917 - accuracy: 0.9783 - val_loss: 0.0591 - val_accuracy: 0.9840\n",
            "Epoch 4/5\n",
            "469/469 [==============================] - 505s 1s/step - loss: 0.0703 - accuracy: 0.9837 - val_loss: 0.0470 - val_accuracy: 0.9888\n",
            "Epoch 5/5\n",
            "469/469 [==============================] - 496s 1s/step - loss: 0.0582 - accuracy: 0.9869 - val_loss: 0.0560 - val_accuracy: 0.9873\n"
          ]
        },
        {
          "output_type": "execute_result",
          "data": {
            "text/plain": [
              "<keras.src.callbacks.History at 0x7f4c75384580>"
            ]
          },
          "metadata": {},
          "execution_count": 5
        }
      ]
    },
    {
      "cell_type": "code",
      "source": [
        "# Evaluate the model and print the confusion matrix\n",
        "y_pred = inception_model.predict(x_test)\n",
        "y_pred = tf.argmax(y_pred, axis=1)\n",
        "y_test = tf.argmax(y_test, axis=1)\n",
        "\n",
        "# Compute the confusion matrix\n",
        "confusion_mat = confusion_matrix(y_test, y_pred)\n",
        "#print(\"Confusion Matrix:\")\n",
        "print(confusion_mat)\n"
      ],
      "metadata": {
        "colab": {
          "base_uri": "https://localhost:8080/"
        },
        "id": "jDE45HCcarSo",
        "outputId": "302e0f5d-71c8-4bcf-a740-cd368b9f8557"
      },
      "execution_count": 6,
      "outputs": [
        {
          "output_type": "stream",
          "name": "stdout",
          "text": [
            "313/313 [==============================] - 15s 46ms/step\n",
            "[[ 977    0    0    0    1    0    1    1    0    0]\n",
            " [   0 1128    0    4    0    0    0    3    0    0]\n",
            " [   1    1 1021    1    0    0    0    8    0    0]\n",
            " [   0    0    2 1001    0    5    0    2    0    0]\n",
            " [   0    0    1    0  975    0    0    2    0    4]\n",
            " [   0    0    0    4    0  887    1    0    0    0]\n",
            " [   3    3    0    1    5    8  937    0    1    0]\n",
            " [   0    1    2    1    0    0    0 1024    0    0]\n",
            " [   2    0    2   13    1    8    0    2  945    1]\n",
            " [   0    0    0    3    9    3    0   16    0  978]]\n"
          ]
        }
      ]
    },
    {
      "cell_type": "code",
      "source": [
        "precision = precision_score(y_test, y_pred, average='weighted')\n",
        "recall = recall_score(y_test, y_pred, average='weighted')\n",
        "f1 = f1_score(y_test, y_pred, average='weighted')\n",
        "\n",
        "print(\"Precision:\", precision)\n",
        "print(\"Recall:\", recall)\n",
        "print(\"F1-score:\", f1)\n"
      ],
      "metadata": {
        "colab": {
          "base_uri": "https://localhost:8080/"
        },
        "id": "9W18xGCEfTr8",
        "outputId": "76f0f323-2cf1-4dc3-8a0f-366aee12d723"
      },
      "execution_count": 7,
      "outputs": [
        {
          "output_type": "stream",
          "name": "stdout",
          "text": [
            "Precision: 0.9874862635139611\n",
            "Recall: 0.9873\n",
            "F1-score: 0.9873052727574312\n"
          ]
        }
      ]
    },
    {
      "cell_type": "code",
      "source": [],
      "metadata": {
        "id": "HKuW5wr4rKdu"
      },
      "execution_count": null,
      "outputs": []
    },
    {
      "cell_type": "code",
      "source": [],
      "metadata": {
        "id": "yZ2hnJW-xO9W"
      },
      "execution_count": null,
      "outputs": []
    },
    {
      "cell_type": "code",
      "source": [],
      "metadata": {
        "id": "BOdSplPEyzOj"
      },
      "execution_count": null,
      "outputs": []
    }
  ]
}